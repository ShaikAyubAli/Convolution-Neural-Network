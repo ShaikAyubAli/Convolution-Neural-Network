{
 "cells": [
  {
   "cell_type": "markdown",
   "id": "74934b92",
   "metadata": {},
   "source": [
    "# Convolutional Neural Network\n",
    "\n",
    "- A convolutional neural network (CNN) is a type of **Deep learning neural network** that is designed to process data that has a **grid-like structure**, such as **images** or **videos**. CNNs use a **series of layers** that perform different operations on the **input data**, such as **convolution**, **pooling**, and **fully connected layers**.\n",
    "\n",
    "- **Convolution layers** apply filters to the input data to extract features, such as **edges**, **shapes**, or **patterns**. The filters are learned by the network during training, and they slide over the input data to produce **feature maps**.\n",
    "\n",
    "- **Pooling layers** **reduce the size of the feature maps by applying a function**, such as **max** or **average**, to a region of the input. This reduces the computation and memory requirements, and also helps to make the network more invariant to small changes in the input.\n",
    "\n",
    "- **Fully connected layers** are similar to the layers in a regular neural network, where each neuron is connected to all the neurons in the previous and next layers. These layers are used to make the final prediction, such as the class label or the probability score.\n",
    "\n",
    "- CNNs are particularly useful for **finding patterns in images and videos**, and they can be used for tasks such as **image classification, object detection, face recognition, semantic segmentation, and natural language processing**"
   ]
  },
  {
   "cell_type": "markdown",
   "id": "6860b777",
   "metadata": {},
   "source": [
    "#### For more details on the topic refer the following drive link\n",
    "- **CNN Notes.pdf**\n",
    "- https://drive.google.com/drive/folders/1KKON_m7ZeQo9_3i6d7T0FnWB1LPtz4ma\n",
    "- https://www.youtube.com/watch?v=zfiSAzpy9NM"
   ]
  },
  {
   "cell_type": "code",
   "execution_count": null,
   "id": "e4371e36",
   "metadata": {},
   "outputs": [],
   "source": []
  }
 ],
 "metadata": {
  "kernelspec": {
   "display_name": "Python 3 (ipykernel)",
   "language": "python",
   "name": "python3"
  },
  "language_info": {
   "codemirror_mode": {
    "name": "ipython",
    "version": 3
   },
   "file_extension": ".py",
   "mimetype": "text/x-python",
   "name": "python",
   "nbconvert_exporter": "python",
   "pygments_lexer": "ipython3",
   "version": "3.11.4"
  }
 },
 "nbformat": 4,
 "nbformat_minor": 5
}
